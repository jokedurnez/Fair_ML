{
 "cells": [
  {
   "cell_type": "markdown",
   "metadata": {},
   "source": [
    "# Towards fair machine learning: lessons from statistics\n",
    "\n",
    "** My reason for writing this:  I've been reading up on the topic, and everywhere, I read that we should NEVER NEVER include race and gender in a predictive model.  It is also present in many policies, where companies are prohibited from including variables as race and gender.  I don't agree.  We know that correlated variables will be taken as proxy for these models and further increase bias.  I believe we should include it in the model, but not in the prediction. **\n",
    "\n",
    "Companies increasingly rely on artificial intelligence to make decisions about our everyday life, based on all information they can collect about us.  Some examples:\n",
    "- getting a loan\n",
    "- college admissions\n",
    "- job interviews\n",
    "- financial aid\n",
    "- salary\n",
    "- ...\n",
    "\n",
    "## Introduction: bias and inequality in machine learning\n",
    "\n",
    "**TL:DR: there are biases for historic reasons that shouldn't be there (anymore).**\n",
    "\n",
    "It is a known fact that in all of those decisions, a certain historical unfairness exists.  Women get a lower salary than men, and black people are having far more trouble getting all of the above than white people.\n",
    "We can always find reasons for this bias: women work more part time and don't aim for high-paid careers, black people come from poorer backgrounds and have therefore a lower chance of being able to pay back their loans.  Even though those are real reasons, it should be clear that this bias shouldn't exist after we carefully take into account those variables.  However that is not what happens.\n",
    "\n",
    "**TL:DR: there is a relation between race and college admissions that is impossible to quantify.**\n",
    "\n",
    "Let's take the example of race and college admissions.  In its simplest form, college admissions is based on SAT scores.  We know that black kids on average have lower SAT scores.  There are a large number of reasons: black kids often have poorer backgrounds (an effect that can even be traced back to the time of slavery, where white people were accumulating capital), their parents didn't go to college (an effect that can easily be traced back to their poorer backgrounds),...  Those reasons are observable, and therefore we can take those variables into account when we try to measure the difference between black and white kids.  However, even if we try to correct for all these factors, differences still exist.  One reason is that there are many more reasons for inequality due to unmeasurable influences.  For example the presence of role models \\* is impossible to measure, but can have a huge effect.  \n",
    "As such: at this point, it is very hard to ensure equal opportunities and it often needs manual correction (affirmative action) to correct this injustice.\n",
    "\n",
    "_\\*A month ago, I was at a devops workshop (devops = systems for unifying IT development).  It was my first devops event, so I was eager to meet my peers.  I was the **only** woman.  The only other women in the room were there for catering.  What example did this give me?  It showed me implicitly that I had a far greater chance to end up in catering than in devops.  Maybe I have a better chance at succeeding in life if I go for a catering job than a devops career.\n",
    "This is a simplified example, but it is a situation that occurs in the lives of black people from the moment they are born, and it is very hard to impossible to measure._\n",
    "\n",
    "**TL:DR: machines will continue the bias.  If we don't include the bias variable, the machine will find a proxy (eg. ZIP-codes are a proxy for race).**\n",
    "\n",
    "How when we hand over the decisions to artificial intelligence, we let the computer decide how we can optimise the chance of success in college.  If we include race in our model, the machine will likely estimate that it's better to admit more white kids than black kids, since they historically have a higher chance of success.  It is clear that this approach is morally and ethically wrong.  Therefore, specialists in the field urge to not include race in their prediction models.\n",
    "What then happens is that instead of using the variable `race` as a predictor, the model will find other variables that are related to race as a proxy.  For example it will take the `ZIP-code` of the person.  There shouldn't be an influence of ZIP-code on the success rate of kids in college, but because certain ZIP-codes have higher concentrations of black or white people, the variable `ZIP-code` might indeed be a predictor of college success **based on a racial bias**.\n",
    "\n",
    "## Introduction: correct for confounding in statistics\n",
    "\n",
    "#### Statistics vs machine learning\n",
    "_While there is still a lot of discussion about the difference, I will make an attempt.  It is probably wrong._\n",
    "\n",
    "\n",
    "**TL:DR: stats is estimation, machine learning is prediction**\n",
    "\n",
    "Machine learning and statistics are two heavily related domains.  Both try to mathematically model a part of the reality.  The models used in machine learning were mostly developed in the 60's-70's in statistics.  \n",
    "Their difference is mostly related to the goal of the model: where statistics is more occupied with estimating the effects as true as possible, and inferring if a predictor is truly related to the outcome, machine learning tries to optimally predict the outcome.\n",
    "A simple example from my own background:\n",
    "- **Statistical question:** Can we see the impact of using heroin in brain images?  How are brain images different between people who use heroin and people who didn't?  What is the chance that we see these differences due to random chance?\n",
    "- **Machine learning question:** In how many cases can we successfully predict whether someone uses heroin based on the brain images?\n",
    "\n",
    "Both have very interesting applications.  The statistical question is crucial for basic science: to collect information about how the brain works.  The second question is more important for clinical applications when we are trying to diagnose patients.\n",
    "(although it doesn't always have to be basic vs clinical science)\n",
    "\n",
    "#### Confounding\n",
    "\n",
    "**TL:DR: In stats, we include confounding variables to attribute variance to the correct variable; this concept is absent in ML.**\n",
    "\n",
    "In the first question, we clearly want to separate random chance from the question of interest (the heroin).  If we now know that men use heroin much more than women, we probably want to take that into account.  If we don't, we might publish a paper that tells us that brains are different between heroin addicts and healthy subjects, while in fact we are just saying that there is a difference between men and women.\n",
    "\n",
    "One such example can be observed in kids with ADHD: we can see very strong differences between the brain connectivity patterns of kids with ADHD and kids without.  However, upon closer inspection, it seems that the difference is not in the brain itself, but more in how we measure it.  Kids with ADHD move more in the scanner, and we can also see this motion in the brain scans.  If we take into account the motion in the model, we can correctly attribute the differences in brain scans to motion, and not to the disease.\n",
    "\n",
    "However, if our only goal is to predict whether a kid has ADHD or not, as is the case in machine learning, based on all available data, we don't care too much which variables are in fact leading to this prediction.  Our machine tries to optimise the correct classification.  The more data we have, the better the machine will be.  In machine learning, we want to include as many variables as technically possible and there is no notion of confounding variables.\n",
    "\n",
    "#### Bias in machine learning equals confounding in statistics\n",
    "\n",
    "** TL:DR race can be a confounding variable, and as such still have an impact on results, even if we don't include it in the model.**\n",
    "At this point, the literature suggests that we should **never** include variables as `race` and `gender` in a predictive model if we assume that there are no real differences, only biases.  However, in the example above (race - zip-codes), our machine will draw the conclusion that based on our zip-code, we can better predict college outcomes, thus there is a relationship between zip-code and college outcome.  In fact, we argued that this relationship is in fact due to race.  But our teachers tell us that we shouldn't measure or include race in our model because it introduces bias.\n",
    "This situation is the same as the relationship between ADHD and brain scans: we see a strong relationship, but it was in fact related to the unmeasured variable of motion.\n",
    "As such, if we don't include the variable race in our model, there will still be racial bias.  Only this time it will be induced by variables correlated to race.\n",
    "\n",
    "**For the reader who knows their models:**\n",
    "\n",
    "This can be seen even stronger in deep learning.  If we don't include `race` or `gender` in the model, it is very well possible that one of the nodes in the model will represent race or gender.  In other words: since there are such strong relationships (biases) based on race or gender, the model tries to estimate race and gender on the basis of proxies.\n",
    "\n",
    "## My proposal: include confounders in the model, but leave them out in the prediction (i.e. handle them as missing values).\n",
    "\n",
    "More and more policy regulations dictate that it is now illegal to collect variables that could be a basis for bias.  However, I want to argue that it is **better to include variables related to known biases into the model** such as gender and race, but **remove these variables from the predictions by setting the variables as missing values**.  If not, the model will use correlated regressors to capture the bias and reestablish the bias through this proxy.  I will use as an example how ZIP codes are used to induce bias.  As I will show below, modeling the confounder is the only way to correctly deal with (and remove) bias. \n",
    "\n",
    "Another idea could be to regress the variable of bias (race, gender) onto the other variables, to make them orthogonal.  This process is very popular in neuroscience and comes with its own discussion, but it could be very valuable in **making sure no variable in the final model will carry (part of the correlated) bias**.\n",
    "\n",
    "\n",
    "#### Potential for policy making\n",
    "\n",
    "At this point, many companies are prohibited from collecting data on race or gender to reduce bias.  If we would use this method, it would effectively mean that the subjects loose privacy.  However, it would be fairly easy to (1) demand that these variables are not used in any predictive model; and (2) to check that this is indeed the case.  To verify that companies indeed estimate bias but don't use it in their predictions, we would just have to look at the resulting bias, which should be exactly 0 (marginally over different conditions)."
   ]
  },
  {
   "cell_type": "markdown",
   "metadata": {},
   "source": [
    "## Simulation study\n",
    "\n",
    "The concept of the simulation is the following: we try to automate college admissions on the basis of 300 variables that have a relationship with the outcome and thus serve to predict the outcome.\n",
    "We also include a racial bias in the data: black people have a lower admission rate in the data.  (Since this is merely an illustration, I'm only including black and white.  That is obviously not the full picture).\n",
    "Furthermore we include ZIP-codes for 100 cities.  The ZIP-codes have no direct relationship with the admission rate, but the proportion of black/white people differ between 10\\% and 90\\%. \n",
    "\n",
    "We start by defining the parameters that are fixed and chosen by the researcher and reading in the necessary libraries."
   ]
  },
  {
   "cell_type": "code",
   "execution_count": 1,
   "metadata": {
    "collapsed": true
   },
   "outputs": [],
   "source": [
    "# parameters\n",
    "\n",
    "nzip = 100\n",
    "populations = [50,500]\n",
    "blackadm = 0.2\n",
    "whiteadm = 0.4\n",
    "othervars = 300\n",
    "proportions_zip = [0.1,0.9]\n",
    "varcor = 0.2\n",
    "varvar = 1"
   ]
  },
  {
   "cell_type": "code",
   "execution_count": 2,
   "metadata": {
    "collapsed": true
   },
   "outputs": [],
   "source": [
    "from __future__ import division\n",
    "from sklearn.model_selection import learning_curve, train_test_split, KFold\n",
    "from sklearn.linear_model import LogisticRegression\n",
    "import matplotlib.pyplot as plt\n",
    "from sklearn.svm import SVC\n",
    "import seaborn as sns\n",
    "import pandas as pd\n",
    "import numpy as np\n",
    "import string\n",
    "import copy\n",
    "\n",
    "%matplotlib inline"
   ]
  },
  {
   "cell_type": "markdown",
   "metadata": {},
   "source": [
    "First we write a function to generate random zip-codes.  This will be our variable that is confounded by race."
   ]
  },
  {
   "cell_type": "code",
   "execution_count": 3,
   "metadata": {
    "collapsed": false
   },
   "outputs": [
    {
     "data": {
      "text/plain": [
       "'GC79253'"
      ]
     },
     "execution_count": 3,
     "metadata": {},
     "output_type": "execute_result"
    }
   ],
   "source": [
    "def randomZIP():\n",
    "    letters = \"\".join(np.random.choice([x for x in string.ascii_uppercase],2))\n",
    "    numbers = \"\".join([str(x) for x in np.random.choice(range(10),5)])\n",
    "    return letters + numbers\n",
    "\n",
    "randomZIP()"
   ]
  },
  {
   "cell_type": "markdown",
   "metadata": {},
   "source": [
    "Now we create a table with `nzip` zipcodes that each have a certain population and a certain proportion of black/white people."
   ]
  },
  {
   "cell_type": "code",
   "execution_count": 4,
   "metadata": {
    "collapsed": false
   },
   "outputs": [
    {
     "data": {
      "text/html": [
       "<div>\n",
       "<table border=\"1\" class=\"dataframe\">\n",
       "  <thead>\n",
       "    <tr style=\"text-align: right;\">\n",
       "      <th></th>\n",
       "      <th>zip</th>\n",
       "      <th>zip_population</th>\n",
       "      <th>zip_race</th>\n",
       "    </tr>\n",
       "  </thead>\n",
       "  <tbody>\n",
       "    <tr>\n",
       "      <th>0</th>\n",
       "      <td>GG40234</td>\n",
       "      <td>164</td>\n",
       "      <td>0.761389</td>\n",
       "    </tr>\n",
       "    <tr>\n",
       "      <th>1</th>\n",
       "      <td>QD33761</td>\n",
       "      <td>119</td>\n",
       "      <td>0.630542</td>\n",
       "    </tr>\n",
       "    <tr>\n",
       "      <th>2</th>\n",
       "      <td>TJ18838</td>\n",
       "      <td>312</td>\n",
       "      <td>0.543448</td>\n",
       "    </tr>\n",
       "    <tr>\n",
       "      <th>3</th>\n",
       "      <td>DN69923</td>\n",
       "      <td>147</td>\n",
       "      <td>0.478437</td>\n",
       "    </tr>\n",
       "    <tr>\n",
       "      <th>4</th>\n",
       "      <td>BP32630</td>\n",
       "      <td>405</td>\n",
       "      <td>0.303050</td>\n",
       "    </tr>\n",
       "  </tbody>\n",
       "</table>\n",
       "</div>"
      ],
      "text/plain": [
       "       zip  zip_population  zip_race\n",
       "0  GG40234             164  0.761389\n",
       "1  QD33761             119  0.630542\n",
       "2  TJ18838             312  0.543448\n",
       "3  DN69923             147  0.478437\n",
       "4  BP32630             405  0.303050"
      ]
     },
     "execution_count": 4,
     "metadata": {},
     "output_type": "execute_result"
    }
   ],
   "source": [
    "zip_table = pd.DataFrame({\n",
    "    \"zip\":[randomZIP() for x in range(nzip)],\n",
    "    \"zip_race\":np.random.uniform(low=proportions_zip[0],high=proportions_zip[1],size=nzip),\n",
    "    \"zip_population\":np.random.randint(low = populations[0], \n",
    "                                       high=populations[1], \n",
    "                                       size=nzip, \n",
    "                                       dtype='l')\n",
    "})\n",
    "\n",
    "zip_table.head()"
   ]
  },
  {
   "cell_type": "markdown",
   "metadata": {},
   "source": [
    "Now we generate the full data table, with `nzip` variables to denote the zip-code, `race` and `othervars` variables that ar all correlated with factor `varcor` and variance `varvar`."
   ]
  },
  {
   "cell_type": "code",
   "execution_count": 5,
   "metadata": {
    "collapsed": false
   },
   "outputs": [
    {
     "name": "stdout",
     "output_type": "stream",
     "text": [
      "   AC11447  AV05170  BI01196  BI26506  BL94655  BP32630  CF14223  CH26676  \\\n",
      "0        0        0        0        0        0        0        0        0   \n",
      "1        0        0        0        0        0        0        0        0   \n",
      "\n",
      "   CK32063  CT13018   ...     var_290  var_291  var_292  var_293  var_294  \\\n",
      "0        0        0   ...           0        1        1        0        0   \n",
      "1        0        0   ...           1        0        0        1        1   \n",
      "\n",
      "   var_295  var_296  var_297  var_298  var_299  \n",
      "0        1        1        0        1        0  \n",
      "1        1        1        1        1        0  \n",
      "\n",
      "[2 rows x 401 columns]\n",
      "(24065, 401)\n"
     ]
    }
   ],
   "source": [
    "out = pd.DataFrame({\"race\":[]})\n",
    "\n",
    "for idx,row in zip_table.iterrows():\n",
    "    white = int(np.round(row.zip_population*row.zip_race))\n",
    "    newdict = {\n",
    "        'race':[1]*white + int(row.zip_population-white)*[0],\n",
    "        row.zip:[1]*row.zip_population\n",
    "        }\n",
    "    out = out.append(pd.DataFrame(newdict),ignore_index=True)\n",
    "\n",
    "mns = np.array([0]*othervars)\n",
    "var = np.zeros([othervars,othervars])+varcor\n",
    "np.fill_diagonal(var,varvar)\n",
    "others = np.random.multivariate_normal(mns,cov=var,size=len(out))\n",
    "others = (others>0)*1\n",
    "for x in range(othervars):\n",
    "    out['var_%i'%x] = others[:,x]\n",
    "\n",
    "out = out.fillna(0)\n",
    "print(out.head(2))\n",
    "print(out.shape)"
   ]
  },
  {
   "cell_type": "markdown",
   "metadata": {},
   "source": [
    "We now generate the admission variable.  The effect ($\\beta$) of the 300 variables ranges uniformly between -0.4 and 0.4.  Race has a coefficient $\\beta$ of 1.  Zip codes have a coefficient of $\\beta=0$."
   ]
  },
  {
   "cell_type": "code",
   "execution_count": 6,
   "metadata": {
    "collapsed": false
   },
   "outputs": [],
   "source": [
    "# get Y\n",
    "betas = np.random.uniform(-0.4,0.4,out.shape[1])\n",
    "raceid = np.where(out.columns=='race')[0][0]\n",
    "betas[raceid] = 1\n",
    "betas[:nzip] = 0\n",
    "y = np.dot(betas,np.transpose(np.array(out)))\n",
    "y = (y - np.mean(y))/np.std(y)\n",
    "y = y+np.random.normal(0,1,len(y))\n",
    "y = np.array([1 if x>np.median(y) else 0 for x in y])"
   ]
  },
  {
   "cell_type": "markdown",
   "metadata": {},
   "source": [
    "To compute racial bias, we compute the odds ratio.  An odds ratio close to 0 indicates strong bias (lower admission for black people), an odds ratio of 1 means no bias.  Any value higher than 1 indicates bias in favor of black people."
   ]
  },
  {
   "cell_type": "code",
   "execution_count": 7,
   "metadata": {
    "collapsed": false
   },
   "outputs": [],
   "source": [
    "def compute_OR(test,confounder):\n",
    "    black = test[confounder==0]\n",
    "    white = test[confounder==1]\n",
    "    num = np.sum(black==1)/np.sum(white==1)\n",
    "    denom = np.sum(black==0)/np.sum(white==0)\n",
    "    OR = num/denom\n",
    "    return OR"
   ]
  },
  {
   "cell_type": "markdown",
   "metadata": {},
   "source": [
    "We'll use a logistic regression with L2 regularisation for the prediction."
   ]
  },
  {
   "cell_type": "code",
   "execution_count": 8,
   "metadata": {
    "collapsed": false
   },
   "outputs": [],
   "source": [
    "lr = LogisticRegression(dual=False,penalty=\"l2\",\n",
    "                        solver='liblinear',C=0.2,class_weight='balanced')"
   ]
  },
  {
   "cell_type": "markdown",
   "metadata": {},
   "source": [
    "Below we are modeling the data:\n",
    "\n",
    "- We are looping over a range of samplesizes (500-5000):\n",
    "\n",
    "    - We are looping over different subsets of samplesize (to get an idea of the variance of our results):\n",
    "        \n",
    "        - We are taking 3 modeling approaches:\n",
    "            1. We include race in our estimation *and* prediction\n",
    "            2. We don't include race in the model\n",
    "            3. We include race in our estimation, but set race to *missing values* in our prediction.  The model thus estimates bias but is blind for race when predicting admission for a certain person.\n",
    "        - We compute the accuracy of the prediction both in the training and the test set.\n",
    "        - We compute the bias by means of the odds ratio"
   ]
  },
  {
   "cell_type": "code",
   "execution_count": 9,
   "metadata": {
    "collapsed": false
   },
   "outputs": [
    {
     "name": "stdout",
     "output_type": "stream",
     "text": [
      "1000\n",
      "1500\n",
      "2000\n",
      "2500\n",
      "3000\n",
      "3500\n",
      "4000\n",
      "4500\n",
      "5000\n",
      "5500\n",
      "6000\n",
      "6500\n",
      "7000\n",
      "7500\n",
      "8000\n",
      "8500\n",
      "9000\n",
      "9500\n"
     ]
    }
   ],
   "source": [
    "results = pd.DataFrame({\"accuracy_test\":[],\n",
    "                        \"bias\":[],\n",
    "                        \"condition\":[],\n",
    "                        \"samplesize\":[],\n",
    "                        \"subject\":[],\n",
    "                        \"accuracy_train\":[]})\n",
    "\n",
    "for samplesize in np.arange(1000,10000,500):\n",
    "    k = 0\n",
    "    print(samplesize)\n",
    "    for idx in range(500):\n",
    "        sample = np.random.choice(range(len(out)),samplesize)\n",
    "        train_index = sample[:int(samplesize/2)]\n",
    "        test_index = sample[int(samplesize/2):]\n",
    "        Xtrain = out.iloc[train_index]\n",
    "        ytrain = y[train_index]\n",
    "        Xtest = out.iloc[test_index]\n",
    "        ytest = y[test_index]\n",
    "        racetest = out['race'][test_index]\n",
    "        # get training and test datasets without race --> set to missing values (0.5)\n",
    "        cols = set(Xtrain.columns) - set(['race'])\n",
    "        Xtrain_norace = copy.deepcopy(Xtrain)\n",
    "        Xtrain_norace['race'] = 0.5\n",
    "        Xtest_norace = copy.deepcopy(Xtest)\n",
    "        Xtest_norace['race'] = 0.5 \n",
    "        # loop over sets\n",
    "        sets = [\n",
    "            (Xtrain,ytrain,Xtest,ytest),\n",
    "            (Xtrain_norace,ytrain,Xtest_norace,ytest),\n",
    "            (Xtrain,ytrain,Xtest_norace,ytest)\n",
    "        ]\n",
    "        names = ['with race','without race','confounding']\n",
    "        for idx,(Xtrain,ytrain,Xtest,ytest) in enumerate(sets):  \n",
    "            k = k+1\n",
    "            ft = lr.fit(Xtrain,ytrain)\n",
    "            ypred = ft.predict(Xtest)\n",
    "            ypred_train = ft.predict(Xtrain)\n",
    "            acc = np.sum(ypred == ytest)/len(ytest)\n",
    "            acc_train = np.sum(ypred_train == ytrain)/len(ytrain)\n",
    "            OR = compute_OR(ypred,racetest)\n",
    "            newrow = {\n",
    "                \"accuracy_test\":acc,\n",
    "                \"accuracy_train\":acc_train,\n",
    "                \"bias\": OR,\n",
    "                \"condition\": names[idx],\n",
    "                \"samplesize\": int(samplesize/2),\n",
    "                \"subject\": k\n",
    "            }\n",
    "            results = results.append(newrow,ignore_index=True)\n",
    "\n",
    "results.to_csv(\"simulations_fair_ML.csv\")"
   ]
  },
  {
   "cell_type": "markdown",
   "metadata": {},
   "source": [
    "### Results: bias and accuracy\n",
    "\n",
    "In the figure below, it is seen that the worst bias coincides with the largest accuracy.  That is no surprise, since the biasing variable indeed carries predictive value.  It can also be seen that leaving out the biasing variable significantly reduces the bias, but it does not remove it.  The only way to remove the bias, is by including the biasing variable as predictor in the estimation, but not in the prediction."
   ]
  },
  {
   "cell_type": "code",
   "execution_count": 10,
   "metadata": {
    "collapsed": false
   },
   "outputs": [
    {
     "name": "stderr",
     "output_type": "stream",
     "text": [
      "/home/jdurnez/.conda/envs/my_root/lib/python2.7/site-packages/matplotlib/collections.py:590: FutureWarning: elementwise comparison failed; returning scalar instead, but in the future will perform elementwise comparison\n",
      "  if self._edgecolors == str('face'):\n"
     ]
    },
    {
     "data": {
      "image/png": "[encoded data removed]",
      "text/plain": [
       "<matplotlib.figure.Figure at 0x7fbd686a7150>"
      ]
     },
     "metadata": {},
     "output_type": "display_data"
    }
   ],
   "source": [
    "sns.set_style('whitegrid')\n",
    "plt.figure(figsize=(10,5))\n",
    "plt.subplot(1,2,1)\n",
    "sns.boxplot(x='condition',y='bias',data=results[results.samplesize==2000])\n",
    "plt.title(\"bias on test dataset for 3 models\")\n",
    "plt.subplot(1,2,2)\n",
    "sns.violinplot(x='condition',y='accuracy_test',data=results,width=1)\n",
    "plt.title(\"accuracy of test dataset for 3 models\")\n",
    "plt.savefig(\"bias_and_accuracy.pdf\")"
   ]
  },
  {
   "cell_type": "code",
   "execution_count": 11,
   "metadata": {
    "collapsed": false
   },
   "outputs": [
    {
     "data": {
      "image/png": "[encoded data removed]",
      "text/plain": [
       "<matplotlib.figure.Figure at 0x7fbd68144dd0>"
      ]
     },
     "metadata": {},
     "output_type": "display_data"
    }
   ],
   "source": [
    "sns.set_style('whitegrid')\n",
    "sns.tsplot(data=results, time=\"samplesize\",unit='subject',\n",
    "           condition=\"condition\", value=\"accuracy_test\",color = sns.hls_palette(8,l=0.8,s=0.8),\n",
    "        err_style=\"boot_traces\",n_boot=1000)\n",
    "sns.tsplot(data=results, time=\"samplesize\",unit='subject',\n",
    "          condition=\"condition\", value=\"accuracy_train\",color = sns.hls_palette(8,l=0.3,s=0.8),\n",
    "          err_style=\"boot_traces\",n_boot=1000)\n",
    "plt.title(\"learning curve (with bootstrap for confidence interval)\")\n",
    "plt.savefig(\"learning_curves.pdf\")"
   ]
  }
 ],
 "metadata": {
  "kernelspec": {
   "display_name": "Python 2",
   "language": "python",
   "name": "python2"
  },
  "language_info": {
   "codemirror_mode": {
    "name": "ipython",
    "version": 2
   },
   "file_extension": ".py",
   "mimetype": "text/x-python",
   "name": "python",
   "nbconvert_exporter": "python",
   "pygments_lexer": "ipython2",
   "version": "2.7.13"
  }
 },
 "nbformat": 4,
 "nbformat_minor": 2
}
